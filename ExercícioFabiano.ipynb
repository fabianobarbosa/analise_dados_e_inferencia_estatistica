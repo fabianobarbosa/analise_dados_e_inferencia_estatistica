{
 "cells": [
  {
   "cell_type": "markdown",
   "metadata": {},
   "source": [
    "# Análise de Dados e Inferência Estatística com Python\n",
    "\n",
    "### Trabalho I - Tratamento de dados com Estatística\n",
    "\n",
    "**Professor:** Paulo Cotta\n",
    "\n",
    "**Entrega:** 14/11/2019\n",
    "\n",
    "O conjunto de dados para este projeto se origina do [repositório de Machine Learning da UCI](https://archive.ics.uci.edu/ml/datasets/Housing). Os dados de imóveis de Boston foram coletados em 1978 e cada uma das 489 entradas representa dados agregados sobre 14 atributos para imóveis de vários subúrbios de Boston.\n",
    "\n",
    "Neste projeto, você irá avaliar um conjunto de dados coletado dos imóveis dos subúrbios de Boston, Massachusetts. O principal objetivo deste trabalho é realizar a análise e começar a trabalhar com funções e métodos que serão utilizados no dia a dia de vocês como Engenheiros de Dados e/ou Engenheiros de Machine Learning.\n",
    "\n",
    "\n",
    "**Vale lembrar que o trabalho terá situações que serão feitas em sala de aula (então nem todo o conteúdo foi abordado ainda), para qualquer dúvida pode procurar o professor.**"
   ]
  },
  {
   "cell_type": "code",
   "execution_count": 2,
   "metadata": {},
   "outputs": [
    {
     "name": "stdout",
     "output_type": "stream",
     "text": [
      "A versão do scikit-learn é  0.20.3\n"
     ]
    }
   ],
   "source": [
    "# Verificação se o sklearn está instalado na sua máquina\n",
    "# Simple and efficient tools for data mining and data analysis\n",
    "# Accessible to everybody, and reusable in various contexts\n",
    "# Built on NumPy, SciPy, and matplotlib\n",
    "# Open source, commercially usable - BSD license\n",
    "import sklearn\n",
    "print(\"A versão do scikit-learn é \", sklearn.__version__)"
   ]
  },
  {
   "cell_type": "markdown",
   "metadata": {},
   "source": [
    "O sklearn é um framework que já possui alguns algoritmos de Machine Learning (ML) prontos. Eu recomento que utilizem sempre a ultima versão do framework.\n",
    "\n",
    "Documentação: [link](https://scikit-learn.org/stable/)"
   ]
  },
  {
   "cell_type": "markdown",
   "metadata": {},
   "source": [
    "Mediante ao cenário seguinte:\n",
    "\n",
    "Os dados de imóveis de Boston foram coletados em 1978 e cada uma das 489 entradas representa dados agregados sobre 14 atributos para imóveis de vários subúrbios de Boston. Para o propósito deste projeto, os passos de pré-processamento a seguir foram feitos para esse conjunto de dados:\n",
    "- 16 observações de dados possuem um valor `'MEDV'` de 50.0. Essas observações provavelmente contêm **valores ausentes ou censurados** e foram removidas.\n",
    "- 1 observação de dados tem um valor `'RM'` de 8.78. Essa observação pode ser considerada **valor atípico (outlier)** e foi removida.\n",
    "- Os atributos `'RM'`, `'LSTAT'`, `'PTRATIO'`, and `'MEDV'` são essenciais. O resto dos **atributos irrelevantes** foram excluídos.\n",
    "- O atributo `'MEDV'` foi **escalonado multiplicativamente** para considerar 35 anos de inflação de mercado.\n",
    "\n",
    "Fica mais tranquilo efetuar o trabalho conhecendo um pouco sobre o conjunto de dados (dataset)."
   ]
  },
  {
   "cell_type": "code",
   "execution_count": 4,
   "metadata": {},
   "outputs": [
    {
     "name": "stdout",
     "output_type": "stream",
     "text": [
      "<class 'pandas.core.frame.DataFrame'>\n",
      "RangeIndex: 489 entries, 0 to 488\n",
      "Data columns (total 4 columns):\n",
      "RM         489 non-null float64\n",
      "LSTAT      489 non-null float64\n",
      "PTRATIO    489 non-null float64\n",
      "MEDV       489 non-null float64\n",
      "dtypes: float64(4)\n",
      "memory usage: 15.4 KB\n",
      "O conjunto de dados de imóveis de Boston tem 489 pontos com 4 variáveis em cada.\n"
     ]
    }
   ],
   "source": [
    "# Execute a célula de código abaixo para carregar o conjunto dos dados dos imóveis de Boston\n",
    "# Importar as bibliotecas necessárias para este projeto\n",
    "import numpy as np\n",
    "import pandas as pd\n",
    "from sklearn.model_selection import ShuffleSplit\n",
    "\n",
    "# Formatação mais bonita para os notebooks\n",
    "%matplotlib inline\n",
    "\n",
    "# Executar o conjunto de dados de imóveis de Boston\n",
    "data = pd.read_csv('housing.csv')\n",
    "prices = data['MEDV']\n",
    "# Dropando a coluna com maior indice de valores ausentes\n",
    "features = data.drop('MEDV', axis = 1)\n",
    "\n",
    "data.info()\n",
    "\n",
    "# Êxito\n",
    "print(\"O conjunto de dados de imóveis de Boston tem {} pontos com {} variáveis em cada.\".format(*data.shape))"
   ]
  },
  {
   "cell_type": "code",
   "execution_count": 5,
   "metadata": {},
   "outputs": [
    {
     "data": {
      "text/html": [
       "<div>\n",
       "<style scoped>\n",
       "    .dataframe tbody tr th:only-of-type {\n",
       "        vertical-align: middle;\n",
       "    }\n",
       "\n",
       "    .dataframe tbody tr th {\n",
       "        vertical-align: top;\n",
       "    }\n",
       "\n",
       "    .dataframe thead th {\n",
       "        text-align: right;\n",
       "    }\n",
       "</style>\n",
       "<table border=\"1\" class=\"dataframe\">\n",
       "  <thead>\n",
       "    <tr style=\"text-align: right;\">\n",
       "      <th></th>\n",
       "      <th>RM</th>\n",
       "      <th>LSTAT</th>\n",
       "      <th>PTRATIO</th>\n",
       "      <th>MEDV</th>\n",
       "    </tr>\n",
       "  </thead>\n",
       "  <tbody>\n",
       "    <tr>\n",
       "      <th>0</th>\n",
       "      <td>6.575</td>\n",
       "      <td>4.98</td>\n",
       "      <td>15.3</td>\n",
       "      <td>504000.0</td>\n",
       "    </tr>\n",
       "    <tr>\n",
       "      <th>1</th>\n",
       "      <td>6.421</td>\n",
       "      <td>9.14</td>\n",
       "      <td>17.8</td>\n",
       "      <td>453600.0</td>\n",
       "    </tr>\n",
       "    <tr>\n",
       "      <th>2</th>\n",
       "      <td>7.185</td>\n",
       "      <td>4.03</td>\n",
       "      <td>17.8</td>\n",
       "      <td>728700.0</td>\n",
       "    </tr>\n",
       "    <tr>\n",
       "      <th>3</th>\n",
       "      <td>6.998</td>\n",
       "      <td>2.94</td>\n",
       "      <td>18.7</td>\n",
       "      <td>701400.0</td>\n",
       "    </tr>\n",
       "    <tr>\n",
       "      <th>4</th>\n",
       "      <td>7.147</td>\n",
       "      <td>5.33</td>\n",
       "      <td>18.7</td>\n",
       "      <td>760200.0</td>\n",
       "    </tr>\n",
       "  </tbody>\n",
       "</table>\n",
       "</div>"
      ],
      "text/plain": [
       "      RM  LSTAT  PTRATIO      MEDV\n",
       "0  6.575   4.98     15.3  504000.0\n",
       "1  6.421   9.14     17.8  453600.0\n",
       "2  7.185   4.03     17.8  728700.0\n",
       "3  6.998   2.94     18.7  701400.0\n",
       "4  7.147   5.33     18.7  760200.0"
      ]
     },
     "execution_count": 5,
     "metadata": {},
     "output_type": "execute_result"
    }
   ],
   "source": [
    "data.head()"
   ]
  },
  {
   "cell_type": "code",
   "execution_count": 6,
   "metadata": {},
   "outputs": [
    {
     "data": {
      "text/plain": [
       "(489, 4)"
      ]
     },
     "execution_count": 6,
     "metadata": {},
     "output_type": "execute_result"
    }
   ],
   "source": [
    "data.shape # 489 registro e 4 colunas\n",
    "#data.dtypes # tipos de dados das colunas"
   ]
  },
  {
   "cell_type": "markdown",
   "metadata": {},
   "source": [
    "### Explorando os dados\n",
    "\n",
    "Você aluno deve efetuar uma investigação sobre os dados de imóveis de Boston e fornecerá suas observações. Familiarizar-se com os dados durante o processo de exploração é uma prática fundamental que ajuda você a entender melhor e justificar seus resultados.\n",
    "\n",
    "Dado que o objetivo principal deste projeto é construir um modelo de trabalho que tem a capacidade de estimar valores dos imóveis, vamos precisar separar os conjuntos de dados em **atributos** e **variável alvo**. O **atributos**, `'RM'`, `'LSTAT'` e `'PTRATIO'`, nos dão informações quantitativas sobre cada ponto de dado. A **variável alvo**, `'MEDV'`, será a variável que procuramos estimar. Eles são armazenados em `features` e ` prices`, respectivamente."
   ]
  },
  {
   "cell_type": "code",
   "execution_count": 7,
   "metadata": {},
   "outputs": [
    {
     "name": "stdout",
     "output_type": "stream",
     "text": [
      "Estatísticas para os dados dos imóveis de Boston:\n",
      "\n",
      "Preço mínimo: $105,000.00\n",
      "Preço máximo: $1,024,800.00\n",
      "Preço médio: $454,342.94\n",
      "Preço mediano: $438,900.00\n",
      "Desvio padrão dos preços: $165,171.13\n"
     ]
    }
   ],
   "source": [
    "# TODO: Preço mínimo dos dados\n",
    "minimum_price = np.amin(prices)\n",
    "\n",
    "# TODO: Preço máximo dos dados\n",
    "maximum_price = np.amax(prices)\n",
    "\n",
    "# TODO: Preço médio dos dados\n",
    "mean_price = np.mean(prices)\n",
    "\n",
    "# TODO: Preço mediano dos dados\n",
    "median_price = np.median(prices)\n",
    "\n",
    "# TODO: Desvio padrão do preço dos dados\n",
    "std_price = np.std(prices)\n",
    "\n",
    "# Mostrar as estatísticas calculadas\n",
    "print(\"Estatísticas para os dados dos imóveis de Boston:\\n\")\n",
    "print(\"Preço mínimo: ${:,.2f}\".format(minimum_price))\n",
    "print(\"Preço máximo: ${:,.2f}\".format(maximum_price))\n",
    "print(\"Preço médio: ${:,.2f}\".format(mean_price))\n",
    "print(\"Preço mediano: ${:,.2f}\".format(median_price))\n",
    "print(\"Desvio padrão dos preços: ${:,.2f}\".format(std_price))"
   ]
  },
  {
   "cell_type": "code",
   "execution_count": 8,
   "metadata": {},
   "outputs": [
    {
     "data": {
      "text/html": [
       "<div>\n",
       "<style scoped>\n",
       "    .dataframe tbody tr th:only-of-type {\n",
       "        vertical-align: middle;\n",
       "    }\n",
       "\n",
       "    .dataframe tbody tr th {\n",
       "        vertical-align: top;\n",
       "    }\n",
       "\n",
       "    .dataframe thead th {\n",
       "        text-align: right;\n",
       "    }\n",
       "</style>\n",
       "<table border=\"1\" class=\"dataframe\">\n",
       "  <thead>\n",
       "    <tr style=\"text-align: right;\">\n",
       "      <th></th>\n",
       "      <th>RM</th>\n",
       "      <th>LSTAT</th>\n",
       "      <th>PTRATIO</th>\n",
       "      <th>MEDV</th>\n",
       "    </tr>\n",
       "  </thead>\n",
       "  <tbody>\n",
       "    <tr>\n",
       "      <th>count</th>\n",
       "      <td>489.000000</td>\n",
       "      <td>489.000000</td>\n",
       "      <td>489.000000</td>\n",
       "      <td>4.890000e+02</td>\n",
       "    </tr>\n",
       "    <tr>\n",
       "      <th>mean</th>\n",
       "      <td>6.240288</td>\n",
       "      <td>12.939632</td>\n",
       "      <td>18.516564</td>\n",
       "      <td>4.543429e+05</td>\n",
       "    </tr>\n",
       "    <tr>\n",
       "      <th>std</th>\n",
       "      <td>0.643650</td>\n",
       "      <td>7.081990</td>\n",
       "      <td>2.111268</td>\n",
       "      <td>1.653403e+05</td>\n",
       "    </tr>\n",
       "    <tr>\n",
       "      <th>min</th>\n",
       "      <td>3.561000</td>\n",
       "      <td>1.980000</td>\n",
       "      <td>12.600000</td>\n",
       "      <td>1.050000e+05</td>\n",
       "    </tr>\n",
       "    <tr>\n",
       "      <th>25%</th>\n",
       "      <td>5.880000</td>\n",
       "      <td>7.370000</td>\n",
       "      <td>17.400000</td>\n",
       "      <td>3.507000e+05</td>\n",
       "    </tr>\n",
       "    <tr>\n",
       "      <th>50%</th>\n",
       "      <td>6.185000</td>\n",
       "      <td>11.690000</td>\n",
       "      <td>19.100000</td>\n",
       "      <td>4.389000e+05</td>\n",
       "    </tr>\n",
       "    <tr>\n",
       "      <th>75%</th>\n",
       "      <td>6.575000</td>\n",
       "      <td>17.120000</td>\n",
       "      <td>20.200000</td>\n",
       "      <td>5.187000e+05</td>\n",
       "    </tr>\n",
       "    <tr>\n",
       "      <th>max</th>\n",
       "      <td>8.398000</td>\n",
       "      <td>37.970000</td>\n",
       "      <td>22.000000</td>\n",
       "      <td>1.024800e+06</td>\n",
       "    </tr>\n",
       "  </tbody>\n",
       "</table>\n",
       "</div>"
      ],
      "text/plain": [
       "               RM       LSTAT     PTRATIO          MEDV\n",
       "count  489.000000  489.000000  489.000000  4.890000e+02\n",
       "mean     6.240288   12.939632   18.516564  4.543429e+05\n",
       "std      0.643650    7.081990    2.111268  1.653403e+05\n",
       "min      3.561000    1.980000   12.600000  1.050000e+05\n",
       "25%      5.880000    7.370000   17.400000  3.507000e+05\n",
       "50%      6.185000   11.690000   19.100000  4.389000e+05\n",
       "75%      6.575000   17.120000   20.200000  5.187000e+05\n",
       "max      8.398000   37.970000   22.000000  1.024800e+06"
      ]
     },
     "execution_count": 8,
     "metadata": {},
     "output_type": "execute_result"
    }
   ],
   "source": [
    "# Trouxe os mesmo resultados apresentados e inclusive os Quartis\n",
    "data.describe()"
   ]
  },
  {
   "cell_type": "code",
   "execution_count": null,
   "metadata": {},
   "outputs": [],
   "source": [
    "### Questão 1\n",
    "\n",
    "Estamos utilizando apenas as seguintes variáveis para analisar:\n",
    "- `'RM'` é o número médio de cômodos entre os imóveis na vizinhança.\n",
    "- `'LSTAT'` é a porcentagem de proprietários na vizinhança considerados de \"classe baixa\" (proletariado).\n",
    "- `'PTRATIO'` é a razão de estudantes para professores nas escolas de ensino fundamental e médio na vizinhança.\n",
    "\n",
    "\n",
    "**A) Qual das variáveis pode interferir com o valor da variável `'MEDV'` e elevar o seu aumento?**\n",
    "Resposta: RM, pois:\n",
    "   RM Correlação (Positiva).....:  [[1.         0.69720922] [0.69720922 1.        ]]\n",
    "   PTRATIO Correlação (Negativa):  [[ 1.        -0.5190335] [-0.5190335  1.       ]]\n",
    "   LSTAT Correlação (Negativa)..:  [[ 1.         -0.76067006] [-0.76067006  1.        ]]    \n",
    "\n",
    "**B) A mesma variável da questão A `'MEDV'`, qual variável pode diminuir o seu valor?**\n",
    "Resposta:   LSTAT, pois tem a maior correlação negativa\n",
    "    \n",
    "**OBS:** Lembra-se que podem utilizar as variáveis que ditam a MODA em formato estatítisco."
   ]
  },
  {
   "cell_type": "code",
   "execution_count": 21,
   "metadata": {},
   "outputs": [
    {
     "name": "stdout",
     "output_type": "stream",
     "text": [
      "Correlação:  [[1.         0.69720922]\n",
      " [0.69720922 1.        ]]\n",
      "b1:  -663283.910582522\n",
      "b0:  [179098.59189784]\n",
      "𝑓(𝐱) =  [179098.59189784]  +  -663283.910582522 x\n",
      "Previsão 2 (12 quartos):  [1485899.19219157]\n"
     ]
    },
    {
     "data": {
      "image/png": "[encoded data removed]",
      "text/plain": [
       "<Figure size 432x288 with 1 Axes>"
      ]
     },
     "metadata": {
      "needs_background": "light"
     },
     "output_type": "display_data"
    }
   ],
   "source": [
    "#Regressão Linear para previsão de números\n",
    "\n",
    "import pandas as pd\n",
    "import numpy as np\n",
    "from sklearn.linear_model import LinearRegression\n",
    "import matplotlib.pyplot as plt\n",
    "\n",
    "data = pd.read_csv('housing.csv')\n",
    "\n",
    "#RM LSTAT PTRATIO MEDV\n",
    "X = data.iloc[:,0].values # seleciona a primeira coluna (0) do data set\n",
    "#                           atributos previsores; Variáveis explanatória. Qdo há apenas uma variável explanatória,\n",
    "#                           temos a Regressão Linear Simples\n",
    "Y = data.iloc[:,3].values # seleciona a quarta coluna\n",
    "#                           É o objetivo do que quero fazer a previsão\n",
    "\n",
    "correlacao = np.corrcoef(X,Y)\n",
    "\n",
    "print(\"Correlação: \", correlacao)\n",
    "\n",
    "X = X.reshape(-1,1) # transforma em uma única coluna (..,1) ou duas colunas (...,2). (2, -1). duas linhas e n colunas\n",
    "\n",
    "#print(\"X\", X)\n",
    "\n",
    "# A Regressão Linear procurará por uma relação entre variáveis que neste caso são as colunas RM LSTAT PTRATIO MEDV da tabela\n",
    "# housing.csv. Cada coluna da tabela representa uma observação sobre a casa. A presunção é que RM, LSTAT e PTRATIO são\n",
    "# características independentes e que MEDV depende delas. Estas características independentes são chamadas de variáveis\n",
    "# independentes, inputs ou predictors. As características dependentes são chamadas de variáveis dependentes, outputs ou \n",
    "# respostas.\n",
    "# It is a common practice to denote the outputs with 𝑦 and inputs with 𝑥. If there are two or more independent variables,\n",
    "# they can be represented as the vector 𝐱 = (𝑥₁, …, 𝑥ᵣ), where 𝑟 is the number of inputs.\n",
    "regressor = LinearRegression()\n",
    "regressor.fit(X,Y)\n",
    "\n",
    "#b0\n",
    "print(\"b1: \",regressor.intercept_)\n",
    "\n",
    "#b1\n",
    "print(\"b0: \",regressor.coef_)\n",
    "# the estimated regression function 𝑓(𝐱) = 𝑏₀ + 𝑏₁𝑥₁ + ⋯ + 𝑏ᵣ𝑥ᵣ\n",
    "print('𝑓(𝐱) = ',regressor.coef_,  ' + ', regressor.intercept_ , 'x' )\n",
    "\n",
    "\n",
    "plt.scatter(X,Y)\n",
    "plt.title(\"Regressão Liner Simples\")\n",
    "plt.plot(X, regressor.predict(X), color= 'red')\n",
    "plt.xlabel(\"Média de Cômodos\")\n",
    "plt.ylabel(\"Preço do Imóvel\")\n",
    "\n",
    "#previsao1 = regressor.predict(12)\n",
    "#print(\"Previsão com 6 quartos\", previsao1)\n",
    "\n",
    "previsao2 = regressor.intercept_ + regressor.coef_ * 12\n",
    "\n",
    "print(\"Previsão 2 (12 quartos): \", previsao2)\n",
    "\n",
    "#from yellowbrick.regressor import ResidualsPlot\n",
    "#visualizador = ResidualsPlot(regressor)\n",
    "#visualizador.fit(X,Y)\n",
    "#visualizador.poof()\n"
   ]
  },
  {
   "cell_type": "markdown",
   "metadata": {},
   "source": [
    "### Modelo Métrica de Desempenho\n",
    "\n",
    "Para este projeto, você irá calcular o [*coeficiente de determinação*](https://pt.khanacademy.org/math/ap-statistics/bivariate-data-ap/assessing-fit-least-squares-regression/a/r-squared-intuition), R<sup>2</sup>, para quantificar o desempenho do seu modelo. O coeficiente de determinação é uma estatística útil no campo de análise de regressão uma vez que descreve o quão \"bom\" é a capacidade do modelo em fazer estimativas."
   ]
  },
  {
   "cell_type": "code",
   "execution_count": 23,
   "metadata": {},
   "outputs": [],
   "source": [
    "# TODO: Importar 'r2_score'\n",
    "from sklearn.metrics import r2_score\n",
    "\n",
    "def performance_metric(y_true, y_predict):\n",
    "    \"\"\" Calcular e retornar a pontuação de desempenho entre \n",
    "        valores reais e estimados baseado na métrica escolhida. \"\"\"\n",
    "    \n",
    "    # TODO: Calcular a pontuação de desempenho entre 'y_true' e 'y_predict'\n",
    "    score = r2_score(y_true, y_predict)\n",
    "    \n",
    "    # Devolver a pontuação\n",
    "    return score"
   ]
  },
  {
   "cell_type": "markdown",
   "metadata": {},
   "source": [
    "### Questão 2\n",
    "\n",
    "Dado a função acima do modelo de performance por desempenho, usando o coeficiente R<sup>2</sup> devemos utilizar algumas métricas.\n",
    "\n",
    "Admita que um conjunto de dados que contém cinco observações de dados e um modelo fez a seguinte estimativa para a variável alvo:\n",
    "\n",
    "| Valores Reais | Estimativa |\n",
    "| :-------------: | :--------: |\n",
    "| 3.0 | 2.5 |\n",
    "| -0.5 | 0.0 |\n",
    "| 2.0 | 2.1 |\n",
    "| 7.0 | 7.8 |\n",
    "| 4.2 | 5.3 |\n",
    "\n",
    "** Executar a célula de código abaixo para usar a função `performance_metric’ e calcular o coeficiente de determinação desse modelo. **"
   ]
  },
  {
   "cell_type": "code",
   "execution_count": 16,
   "metadata": {},
   "outputs": [
    {
     "name": "stdout",
     "output_type": "stream",
     "text": [
      "Score:  0.9228556485355649\n"
     ]
    }
   ],
   "source": [
    "# Insira o código usando a função performance_metric para calcular\n",
    "from sklearn.metrics import r2_score\n",
    "\n",
    "y_true    = [3.0, -0.5, 2.0, 7.0, 4.2]\n",
    "y_predict = [2.5,  0.0, 2.1, 7.8, 5.3]\n",
    "\n",
    "def performance_metric(y_true, y_predict):\n",
    "    \"\"\" Calcular e retornar a pontuação de desempenho entre \n",
    "        valores reais e estimados baseado na métrica escolhida. \"\"\"\n",
    "    \n",
    "    # TODO: Calcular a pontuação de desempenho entre 'y_true' e 'y_predict'\n",
    "    score = r2_score(y_true, y_predict)\n",
    "    \n",
    "    # Devolver a pontuação\n",
    "    return score\n",
    "\n",
    "print(\"Score: \",performance_metric(y_true, y_predict))"
   ]
  },
  {
   "cell_type": "markdown",
   "metadata": {},
   "source": [
    "**Justifique o valor de saída da função R<sup>2</sup>:**"
   ]
  },
  {
   "cell_type": "markdown",
   "metadata": {},
   "source": [
    "### Em formato de conhecimento - Misturar e Separar os Dados\n",
    "\n",
    "Geralmente os dados são também misturados em uma ordem aleatória ao criar os subconjuntos de treinamento e de teste para remover qualquer viés (ou erro sistemático) na ordenação do conjunto de dados.\n",
    "\n",
    "Neste caso será mostrado a separação do dataset em 80% treinamento e 20% em teste, o que geralmente fazemos em um modelo de Machine Learning e ou Deep Learning. \n",
    "\n",
    "\n",
    "Para título de curiosidade [aqui](http://scikit-learn.org/0.19/modules/generated/sklearn.model_selection.train_test_split.html)."
   ]
  },
  {
   "cell_type": "code",
   "execution_count": 18,
   "metadata": {},
   "outputs": [
    {
     "name": "stdout",
     "output_type": "stream",
     "text": [
      "Separação entre treino e teste feita com êxito.\n"
     ]
    }
   ],
   "source": [
    "# TODO: Importar 'train_test_split'\n",
    "from sklearn.model_selection import train_test_split\n",
    "\n",
    "# TODO: Misturar e separar os dados em conjuntos de treinamento e teste\n",
    "X = np.array(data[['RM', 'LSTAT', 'PTRATIO']])\n",
    "y = np.array(data['MEDV'])\n",
    "# test_size com 20%\n",
    "X_train, X_test, y_train, y_test = train_test_split(X, y, test_size=0.2, random_state=42)\n",
    "\n",
    "# Êxito\n",
    "print(\"Separação entre treino e teste feita com êxito.\")"
   ]
  },
  {
   "cell_type": "markdown",
   "metadata": {},
   "source": [
    "### Questão 3\n",
    "\n",
    "Após executar todo o trabalho, apresente uma revisão sistemática do uso de média, mediana e R<sup>2</sup>. Cada item deve conter, no mínimo, 2 (dois) parágrafos de explicação.\n",
    "Importante: Lembre-se de adicionar as referências bibliográficas utilizadas."
   ]
  },
  {
   "cell_type": "markdown",
   "metadata": {},
   "source": [
    "A média ou média aritimética pode ser definida como a soma das observações divididas pelo número delas. Assim, a média aritmética de 3, 4, 7, 8 e 8 é (3 + 4 + 7 + 8 + 8)/5 = 6. (Morettin, 2010, pág.35).\n",
    "\n",
    "A mediana é a realização que ocupa a posição central da série de observações, quando estão ordenadas em ordem crescente. Assim, se as cinco observações de uma variável forem 3, 4, 7, 8 e 8, a mediana é o valor 7, correspondendo à terceira observação. Quando o número de observações for par, usa-se como mediana a média aritmética das duas observações centrais. Acrescentando-se o valor 9 à série acima (3,4,7,8,8,9), a mediana será (7 + 8)/2 = 7,5.(Morettin, 2010, pág.35)\n",
    "\n",
    "O símbolo R2 é comumente utilizado em análise de variância e regressão. É um valor entre 0 e 1 que indica o grau de assertividade do modelo. Como exemplificado por Morettin, o valor de R2 = 96,3%, que nos diz que o modelo ajustado explica a maior parte da variabilidade dos dados. Já segundo apresentado em Kahn Academy (2), 0 coeficiente de determinação é um ajuste no modelo de correlação linear que varia de 0 a 1 e é expresso em porcentagem. Trata-se do valor do coeficiente de correlação ao quadrado, e por isso, sempre será um valor positivo. Este resultado descreve o quão preciso a reta descreve os pontos apresentados.\n",
    "\n",
    "(1) - Morettin, Pedro Alberto, Estatística Básica/Pedro A. Morettin, Wilton O. Bussab. – 6. ed. – São Paulo : Saraiva, 2010 página 35\n",
    "(2) - https://pt.khanacademy.org/math/ap-statistics/bivariate-data-ap/assessing-fit-least-squares-regression/v/r-squared-or-coefficient-of-determination"
   ]
  }
 ],
 "metadata": {
  "kernelspec": {
   "display_name": "Python 3",
   "language": "python",
   "name": "python3"
  },
  "language_info": {
   "codemirror_mode": {
    "name": "ipython",
    "version": 3
   },
   "file_extension": ".py",
   "mimetype": "text/x-python",
   "name": "python",
   "nbconvert_exporter": "python",
   "pygments_lexer": "ipython3",
   "version": "3.7.3"
  }
 },
 "nbformat": 4,
 "nbformat_minor": 2
}
